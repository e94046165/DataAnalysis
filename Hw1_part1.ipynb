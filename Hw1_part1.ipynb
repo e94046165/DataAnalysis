{
 "cells": [
  {
   "cell_type": "code",
   "execution_count": 1,
   "metadata": {},
   "outputs": [],
   "source": [
    "# This Python 3 environment comes with many helpful analytics libraries installed\n",
    "# It is defined by the kaggle/python docker image: https://github.com/kaggle/docker-python\n",
    "# For example, here's several helpful packages to load in \n",
    "from __future__ import division\n",
    "import numpy as np # linear algebra\n",
    "import scipy as sp \n",
    "import pandas as pd # data processing, CSV file I/O (e.g. pd.read_csv)\n",
    "# Visualization\n",
    "import matplotlib.pyplot as plt\n",
    "import seaborn as sns\n",
    "\n",
    "# NLP tools\n",
    "import nltk\n",
    "\n",
    "# Input data files are available in the \"../input/\" directory.\n",
    "# For example, running this (by clicking run or pressing Shift+Enter) will list the files in the input directory\n",
    "\n",
    "import os\n",
    "\n",
    "data_path = \"~/DA/dataset/Reviews.csv\"\n",
    "pd_data = pd.read_csv(data_path)\n",
    "pd_data = pd_data[:10000]\n",
    "subset = pd_data[['UserId', 'Score']]\n",
    "#pd_data[pd_data['UserId']=='A1Z54EM24Y40LL']\n"
   ]
  },
  {
   "cell_type": "code",
   "execution_count": 2,
   "metadata": {},
   "outputs": [],
   "source": [
    "pd_20 = pd_data.head(20)\n",
    "pd_sort = pd_data.sort_values(by='UserId', ascending=False)\n",
    "#pd_sort.head(6)\n",
    "#print(pd_sort.head(1).UserId)"
   ]
  },
  {
   "cell_type": "code",
   "execution_count": null,
   "metadata": {},
   "outputs": [],
   "source": [
    "name = []\n",
    "score = []\n",
    "c = 0\n",
    "s = 0\n",
    "sum = {}#{'ID':'sum'}\n",
    "count = {}#{'ID':'count'}\n",
    "'''\n",
    "for i in range(10000):\n",
    "    name.append(pd_data['UserId'][i])\n",
    "name = list(set(name))\n",
    "for n in name:\n",
    "    for i in range(10000):\n",
    "        if (n==pd_data['UserId'][i]):\n",
    "            c += 1\n",
    "            s += pd_data['Score'][i]\n",
    "    sum.update( {n : s} )\n",
    "    count.update( {n : c} )\n",
    "    c = 0\n",
    "    s = 0\n",
    "print(count)\n",
    "print(sum)\n",
    "'''\n",
    "profile = []\n",
    "for n in pd_sort['UserId']:\n",
    "    name.append(n)\n",
    "for a in pd_sort['Score']:\n",
    "    score.append(a)\n",
    "for p in pd_sort['ProfileName']:\n",
    "    profile.append(p)\n",
    "name_set = list(set(name))\n",
    "name_set.sort(key=name.index)\n",
    "j = 0\n",
    "i = 0\n",
    "while(i!=len(name_set)-1):\n",
    "    #print(name_set[i],name[j])\n",
    "    if (name_set[i]== name[j]):\n",
    "        c+=1\n",
    "        s+=score[j]\n",
    "        j+=1\n",
    "    else:\n",
    "        sum.update( {name_set[i] : s} )\n",
    "        count.update( {name_set[i] : c} )\n",
    "        i += 1\n",
    "        c = 0\n",
    "        s = 0\n",
    "import operator\n",
    "count_sort = sorted(count.items(), key=operator.itemgetter(1),reverse=True)\n",
    "#print(count)\n",
    "mean = []\n",
    "score_count = []\n",
    "for i in range(10):\n",
    "    #print(count_sort[i][0])\n",
    "    #print(count_sort[i][0], sum[count_sort[i][0]], count_sort[i][1])\n",
    "    mean.append(sum[count_sort[i][0]]/count_sort[i][1])\n",
    "    score_count.append(count_sort[i][1])\n",
    "profileName = []\n",
    "UserId_set = []"
   ]
  },
  {
   "cell_type": "raw",
   "metadata": {},
   "source": [
    "作業第一小題 取出給最多評分的十個使用者，並對各使用者的評分平均\n",
    "(有多個使用者給6個評分，所以這邊的取出的幾個與desired output略有不同)"
   ]
  },
  {
   "cell_type": "code",
   "execution_count": 9,
   "metadata": {},
   "outputs": [
    {
     "data": {
      "text/html": [
       "<div>\n",
       "<style scoped>\n",
       "    .dataframe tbody tr th:only-of-type {\n",
       "        vertical-align: middle;\n",
       "    }\n",
       "\n",
       "    .dataframe tbody tr th {\n",
       "        vertical-align: top;\n",
       "    }\n",
       "\n",
       "    .dataframe thead th {\n",
       "        text-align: right;\n",
       "    }\n",
       "</style>\n",
       "<table border=\"1\" class=\"dataframe\">\n",
       "  <thead>\n",
       "    <tr style=\"text-align: right;\">\n",
       "      <th></th>\n",
       "      <th>UserId</th>\n",
       "      <th>ProfileName</th>\n",
       "      <th>Score count</th>\n",
       "      <th>Score mean</th>\n",
       "    </tr>\n",
       "  </thead>\n",
       "  <tbody>\n",
       "    <tr>\n",
       "      <th>0</th>\n",
       "      <td>A1Z54EM24Y40LL</td>\n",
       "      <td>c2</td>\n",
       "      <td>17</td>\n",
       "      <td>3.882353</td>\n",
       "    </tr>\n",
       "    <tr>\n",
       "      <th>1</th>\n",
       "      <td>A2SZLNSI5KOQJT</td>\n",
       "      <td>Carrie, \"Formerly &amp;#34;Sister Carrie&amp;#34;\"</td>\n",
       "      <td>10</td>\n",
       "      <td>3.800000</td>\n",
       "    </tr>\n",
       "    <tr>\n",
       "      <th>2</th>\n",
       "      <td>A35R32TA60XD57</td>\n",
       "      <td>M. Torma</td>\n",
       "      <td>9</td>\n",
       "      <td>4.111111</td>\n",
       "    </tr>\n",
       "    <tr>\n",
       "      <th>3</th>\n",
       "      <td>A281NPSIMI1C2R</td>\n",
       "      <td>Rebecca of Amazon \"The Rebecca Review\"</td>\n",
       "      <td>8</td>\n",
       "      <td>5.000000</td>\n",
       "    </tr>\n",
       "    <tr>\n",
       "      <th>4</th>\n",
       "      <td>A3PJZ8TU8FDQ1K</td>\n",
       "      <td>Jared Castle</td>\n",
       "      <td>7</td>\n",
       "      <td>4.714286</td>\n",
       "    </tr>\n",
       "    <tr>\n",
       "      <th>5</th>\n",
       "      <td>A3OXHLG6DIBRW8</td>\n",
       "      <td>C. F. Hill \"CFH\"</td>\n",
       "      <td>7</td>\n",
       "      <td>4.428571</td>\n",
       "    </tr>\n",
       "    <tr>\n",
       "      <th>6</th>\n",
       "      <td>A3NHUQ33CFH3VM</td>\n",
       "      <td>Citizen John</td>\n",
       "      <td>7</td>\n",
       "      <td>3.142857</td>\n",
       "    </tr>\n",
       "    <tr>\n",
       "      <th>7</th>\n",
       "      <td>AY12DBB0U420B</td>\n",
       "      <td>Gary Peterson</td>\n",
       "      <td>6</td>\n",
       "      <td>4.500000</td>\n",
       "    </tr>\n",
       "    <tr>\n",
       "      <th>8</th>\n",
       "      <td>AQQLWCMRNDFGI</td>\n",
       "      <td>Steven A. Peterson</td>\n",
       "      <td>6</td>\n",
       "      <td>4.166667</td>\n",
       "    </tr>\n",
       "    <tr>\n",
       "      <th>9</th>\n",
       "      <td>AQ6SHOW0VMZGF</td>\n",
       "      <td>K. Padgett \"familyof5\"</td>\n",
       "      <td>6</td>\n",
       "      <td>2.666667</td>\n",
       "    </tr>\n",
       "  </tbody>\n",
       "</table>\n",
       "</div>"
      ],
      "text/plain": [
       "           UserId                                 ProfileName  Score count  \\\n",
       "0  A1Z54EM24Y40LL                                          c2           17   \n",
       "1  A2SZLNSI5KOQJT  Carrie, \"Formerly &#34;Sister Carrie&#34;\"           10   \n",
       "2  A35R32TA60XD57                                    M. Torma            9   \n",
       "3  A281NPSIMI1C2R      Rebecca of Amazon \"The Rebecca Review\"            8   \n",
       "4  A3PJZ8TU8FDQ1K                                Jared Castle            7   \n",
       "5  A3OXHLG6DIBRW8                            C. F. Hill \"CFH\"            7   \n",
       "6  A3NHUQ33CFH3VM                                Citizen John            7   \n",
       "7   AY12DBB0U420B                               Gary Peterson            6   \n",
       "8   AQQLWCMRNDFGI                          Steven A. Peterson            6   \n",
       "9   AQ6SHOW0VMZGF                      K. Padgett \"familyof5\"            6   \n",
       "\n",
       "   Score mean  \n",
       "0    3.882353  \n",
       "1    3.800000  \n",
       "2    4.111111  \n",
       "3    5.000000  \n",
       "4    4.714286  \n",
       "5    4.428571  \n",
       "6    3.142857  \n",
       "7    4.500000  \n",
       "8    4.166667  \n",
       "9    2.666667  "
      ]
     },
     "execution_count": 9,
     "metadata": {},
     "output_type": "execute_result"
    }
   ],
   "source": [
    "for i in range(10):\n",
    "    a = count_sort[i][0]\n",
    "    UserId_set.append(count_sort[i][0])\n",
    "    for j in range(len(name)):\n",
    "        if a == name[j]:\n",
    "            profileName.append(profile[j])\n",
    "profileName_set = list(set(profileName))\n",
    "profileName_set.sort(key=profileName.index)\n",
    "final_dict = {\n",
    "                \"UserId\":UserId_set,\n",
    "                \"ProfileName\": profileName_set,\n",
    "                \"Score count\": score_count,\n",
    "                \"Score mean\" : mean\n",
    "}\n",
    "#print(len(profile),len(score_count),len(score_count))\n",
    "final_df = pd.DataFrame(final_dict)\n",
    "#df.transpose()\n",
    "final_df"
   ]
  },
  {
   "cell_type": "raw",
   "metadata": {},
   "source": [
    "作業第二小題 繪出給予最多筆評論之使用者的分數分布 "
   ]
  },
  {
   "cell_type": "code",
   "execution_count": 4,
   "metadata": {},
   "outputs": [
    {
     "data": {
      "image/png": "[encoded data removed]",
      "text/plain": [
       "<Figure size 432x288 with 1 Axes>"
      ]
     },
     "metadata": {
      "needs_background": "light"
     },
     "output_type": "display_data"
    }
   ],
   "source": [
    "reviews = pd_data.loc[pd_data['UserId']==count_sort[0][0]]\n",
    "reviews = reviews.groupby(['Score']).size()\n",
    "reviews_count = []\n",
    "for i in range(1,6):\n",
    "    reviews_count.append(reviews[i])\n",
    "df = pd.DataFrame({'Score':[1, 2, 3, 4, 5], 'Score count':reviews_count})\n",
    "ax1 = df.plot.bar(x='Score', y='Score count', rot=1)\n"
   ]
  },
  {
   "cell_type": "raw",
   "metadata": {},
   "source": [
    "作業第三小題 轉換資料中的時間(秒數)成年份，並統計 "
   ]
  },
  {
   "cell_type": "code",
   "execution_count": 5,
   "metadata": {},
   "outputs": [],
   "source": [
    "time = pd.to_datetime(pd_data['Time'],unit='s')\n",
    "years = []\n",
    "for i in range(10000):\n",
    "    years.append(time[i].year)\n",
    "year = list(set(years))\n",
    "year_count = []\n",
    "c = 0\n",
    "for i in year:\n",
    "    for j in range(10000):\n",
    "        if(i==years[j]):\n",
    "            c+=1\n",
    "    year_count.append(c)\n",
    "    c = 0\n",
    "#year_count"
   ]
  },
  {
   "cell_type": "code",
   "execution_count": 6,
   "metadata": {},
   "outputs": [
    {
     "data": {
      "image/png": "[encoded data removed]",
      "text/plain": [
       "<Figure size 432x288 with 1 Axes>"
      ]
     },
     "metadata": {
      "needs_background": "light"
     },
     "output_type": "display_data"
    }
   ],
   "source": [
    "df = pd.DataFrame({'year':year, 'year count':year_count})\n",
    "ax2 = df.plot.bar(x='year', y='year count', rot=1)"
   ]
  },
  {
   "cell_type": "raw",
   "metadata": {},
   "source": [
    "作業第四小題 求各項係數間的相關性，並以 Heatmap 呈現"
   ]
  },
  {
   "cell_type": "code",
   "execution_count": 7,
   "metadata": {},
   "outputs": [
    {
     "data": {
      "text/plain": [
       "<matplotlib.axes._subplots.AxesSubplot at 0x7f88c2490f60>"
      ]
     },
     "execution_count": 7,
     "metadata": {},
     "output_type": "execute_result"
    },
    {
     "data": {
      "image/png": "[encoded data removed]",
      "text/plain": [
       "<Figure size 432x288 with 2 Axes>"
      ]
     },
     "metadata": {
      "needs_background": "light"
     },
     "output_type": "display_data"
    }
   ],
   "source": [
    "corr=pd_data[['Id','HelpfulnessNumerator','HelpfulnessDenominator','Score','Time']].corr()\n",
    "#corr\n",
    "#type(corr)\n",
    "sns.heatmap(corr, annot = True)"
   ]
  },
  {
   "cell_type": "raw",
   "metadata": {},
   "source": [
    "作業第五小題 去除 numerator > denominator 的資料後，計算 help_percent 並繪製"
   ]
  },
  {
   "cell_type": "code",
   "execution_count": 8,
   "metadata": {},
   "outputs": [
    {
     "data": {
      "text/plain": [
       "array([[<matplotlib.axes._subplots.AxesSubplot object at 0x7f88bd0fed30>]],\n",
       "      dtype=object)"
      ]
     },
     "execution_count": 8,
     "metadata": {},
     "output_type": "execute_result"
    },
    {
     "data": {
      "image/png": "[encoded data removed]",
      "text/plain": [
       "<Figure size 432x288 with 1 Axes>"
      ]
     },
     "metadata": {
      "needs_background": "light"
     },
     "output_type": "display_data"
    }
   ],
   "source": [
    "num_dem=pd.DataFrame(pd_data,columns=['HelpfulnessNumerator','HelpfulnessDenominator'])\n",
    "#num_dem\n",
    "help_percent = []\n",
    "for i in range(10000):\n",
    "    if num_dem['HelpfulnessNumerator'][i]==0&num_dem['HelpfulnessDenominator'][i]==0:\n",
    "        help_percent.append(-1)\n",
    "    elif num_dem['HelpfulnessNumerator'][i]>num_dem['HelpfulnessDenominator'][i]:\n",
    "        pass\n",
    "    else:\n",
    "        help_percent.append(num_dem['HelpfulnessNumerator'][i]/num_dem['HelpfulnessDenominator'][i])\n",
    "help_percent = pd.DataFrame({'ratio':help_percent})\n",
    "help_percent.hist()"
   ]
  },
  {
   "cell_type": "code",
   "execution_count": null,
   "metadata": {},
   "outputs": [],
   "source": []
  }
 ],
 "metadata": {
  "kernelspec": {
   "display_name": "Python 3",
   "language": "python",
   "name": "python3"
  },
  "language_info": {
   "codemirror_mode": {
    "name": "ipython",
    "version": 3
   },
   "file_extension": ".py",
   "mimetype": "text/x-python",
   "name": "python",
   "nbconvert_exporter": "python",
   "pygments_lexer": "ipython3",
   "version": "3.7.1"
  }
 },
 "nbformat": 4,
 "nbformat_minor": 2
}
